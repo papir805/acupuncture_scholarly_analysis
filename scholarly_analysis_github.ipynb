{
 "cells": [
  {
   "cell_type": "markdown",
   "id": "specific-dover",
   "metadata": {},
   "source": [
    "# Statistical analysis of published research paper: \n",
    "\n",
    "Full scholarly article found on github here: [Effects of acupuncture with needle manipulation at different frequencies for patients with hypertension: Result of a 24- week clinical observation](https://github.com/papir805/acupuncture_scholarly_analysis/blob/master/acupuncture_scholarly_article.pdf)\n",
    "\n",
    "“Abstract\n",
    "\n",
    "“Objectives: To investigate whether the manipulation parameter of the twirling frequency in acupuncture affects the blood pressure when acupuncture is applied on the acupoints ST9 and LR3 in a human body.\n",
    "\n",
    "“Design: A randomized, controlled trial.\n",
    "\n",
    "“Interventions: A hundred and twenty patients with hypertension were randomized into four treatment groups. A twirling frequency of 120 twirls per minute or 60 twirls per minute were respectively applied on the acupoints ST9 or LR3. Each patient received five acupuncture sessions a week over a period of 12 weeks, with a follow-up period of a further12 weeks. The outcome was assessed by using an ambulatory blood pressure monitor.\n",
    "\n",
    "“Results: A hundred and twenty twirls per minute on ST9 could overall improve the BP (24hDBP, mSBP, mDBP, dDBP, nSBP and nDBP). Sixty twirls per minute on ST9 improved the 24hDBP, dSBP, dDBP and mDBP; 120 twirls per minute on LR3 did not show any anti-hypertensive effect, while 60 twirls per minute on LR3 improved the dSBP and dDBP. The results indicated that the acupuncture effect on BP, the onset of anti-hypertensive effect, the occurrence of the effect, and the duration of the effect depended on the frequency of needle manipulation on the same acupuncture point.\n",
    "\n",
    "“Conclusions: As one of the important factors of the effects of acupuncture, the manipulation parameter's impact has its specificity for different acupoints. Thus, in the future, close attention needs to be paid to this clinically.”"
   ]
  },
  {
   "cell_type": "code",
   "execution_count": 1,
   "id": "manufactured-prefix",
   "metadata": {},
   "outputs": [],
   "source": [
    "import pandas as pd\n",
    "import numpy as np\n",
    "import scipy.stats as st\n",
    "import statsmodels.api as sm\n",
    "import matplotlib.pyplot as plt\n",
    "from scipy.stats import norm, chi2, f, t\n",
    "from statsmodels.stats.proportion import proportions_ztest, proportions_chisquare\n",
    "from statsmodels.formula.api import ols\n",
    "from IPython.display import Markdown as md\n",
    "%matplotlib inline"
   ]
  },
  {
   "cell_type": "code",
   "execution_count": 8,
   "id": "intermediate-degree",
   "metadata": {},
   "outputs": [],
   "source": [
    "orig_df = pd.read_csv(\"./data/Acupuncture Data.csv\")"
   ]
  },
  {
   "cell_type": "code",
   "execution_count": 9,
   "id": "favorite-murder",
   "metadata": {},
   "outputs": [
    {
     "data": {
      "text/plain": [
       "(120, 53)"
      ]
     },
     "execution_count": 9,
     "metadata": {},
     "output_type": "execute_result"
    }
   ],
   "source": [
    "orig_df.shape"
   ]
  },
  {
   "cell_type": "markdown",
   "id": "funky-america",
   "metadata": {},
   "source": [
    "## Why do we care?\n",
    "\n",
    "According to the scholarly article, hypertension affects one-third of young adults, two-thirds of people over the age of 60, three-quarters of people over the age of 70, and is a leading contributer to many of the leading causes of death worldwide.  If one was able to reduce blood pressure with acupuncture, it could have serious cost savings for the healthcare system and could lead to longer lives for many people worldwide."
   ]
  },
  {
   "cell_type": "markdown",
   "id": "geographic-certification",
   "metadata": {},
   "source": [
    "### Q1: Is there a significant difference in the proportion of high 24-hour Systolic Blood Pressure (SBP) at 24 weeks of acupucuncture treatment for individuals below the age of 60 or those who are 60+?"
   ]
  },
  {
   "cell_type": "markdown",
   "id": "democratic-bonus",
   "metadata": {},
   "source": [
    "To answer the question, we have to create a new variable that bins ages based on our critera of below age 60, or age 60+."
   ]
  },
  {
   "cell_type": "code",
   "execution_count": 10,
   "id": "essential-integer",
   "metadata": {},
   "outputs": [],
   "source": [
    "age_bins = [0, 60, 100]\n",
    "age_labels = ['below_60', '60_or_above']\n",
    "\n",
    "orig_df['binned_ages'] = pd.cut(orig_df['age'], bins=age_bins, right=False, labels=age_labels)"
   ]
  },
  {
   "cell_type": "markdown",
   "id": "adjacent-governor",
   "metadata": {},
   "source": [
    "We'll define high SBP as 130+ mmHg and create a new variable that bins accordingly."
   ]
  },
  {
   "cell_type": "code",
   "execution_count": 11,
   "id": "powerful-scout",
   "metadata": {},
   "outputs": [],
   "source": [
    "n24hsbp6_bins = [0, 130, 200]\n",
    "n24hsbp6_labels = ['below_130', '130_or_above']\n",
    "\n",
    "orig_df['binned_24hsbp6'] = pd.cut(orig_df['n24hsbp6'], bins=n24hsbp6_bins, right=False, labels=n24hsbp6_labels)"
   ]
  },
  {
   "cell_type": "markdown",
   "id": "overall-division",
   "metadata": {},
   "source": [
    "### Q1.a: Because we have sample sizes larger than 30, we'll use a z-test for two population proportions to answer our question."
   ]
  },
  {
   "cell_type": "markdown",
   "id": "married-escape",
   "metadata": {},
   "source": [
    "#### *Step 1: Hypotheses*\n",
    "\n",
    "<ins>In words</ins><br>\n",
    "$H_0:$ There is no difference in the proportion of high 24-hour SBP values (130+ mmHg) at 24 weeks between individuals less than 60 years of age and greater than or equal to 60 years.  <br>\n",
    "$H_a:$ There is a difference in the proportion of high 24-hour SBP values (130+ mmHg) at 24 weeks between individuals less than 60 years and greater than or equal to 60 years. <br>\n",
    "\n",
    "<ins>Using symbols</ins><br>\n",
    "$H_0: p_1 = p_2$ <br>\n",
    "$H_a: p_1 \\neq p_2$"
   ]
  },
  {
   "cell_type": "markdown",
   "id": "complicated-running",
   "metadata": {},
   "source": [
    "#### *Step 2: Critical value(s)*\n",
    "\n",
    "Reject the null hypothesis ($H_0$) if the calculated test statistic is less than or equal to -1.96, or greater than or equal to 1.96, based on a two-tailed test using the Normal (Z) Distribution, using $\\alpha = 0.05$.\n",
    "\n",
    "e.g. $Z_{\\alpha/2} \\leq -1.96 \\text{   or   } Z_{1 - \\alpha/2} \\geq 1.96$"
   ]
  },
  {
   "cell_type": "code",
   "execution_count": 12,
   "id": "incident-grenada",
   "metadata": {},
   "outputs": [
    {
     "name": "stdout",
     "output_type": "stream",
     "text": [
      "Z_critical_left: -1.96\n",
      "Z_critical_right: 1.96\n"
     ]
    }
   ],
   "source": [
    "alpha = 0.05\n",
    "z_crit_left = norm.ppf(alpha/2)\n",
    "z_crit_right = norm.ppf(1 - alpha/2)\n",
    "print(F\"Z_critical_left: {z_crit_left:.2f}\")\n",
    "print(F\"Z_critical_right: {z_crit_right:.2f}\")"
   ]
  },
  {
   "cell_type": "markdown",
   "id": "sudden-bargain",
   "metadata": {},
   "source": [
    "#### *Step 3: Calculate Test Statistic*"
   ]
  },
  {
   "cell_type": "code",
   "execution_count": 13,
   "id": "herbal-montgomery",
   "metadata": {},
   "outputs": [
    {
     "data": {
      "text/html": [
       "<div>\n",
       "<style scoped>\n",
       "    .dataframe tbody tr th:only-of-type {\n",
       "        vertical-align: middle;\n",
       "    }\n",
       "\n",
       "    .dataframe tbody tr th {\n",
       "        vertical-align: top;\n",
       "    }\n",
       "\n",
       "    .dataframe thead th {\n",
       "        text-align: right;\n",
       "    }\n",
       "</style>\n",
       "<table border=\"1\" class=\"dataframe\">\n",
       "  <thead>\n",
       "    <tr style=\"text-align: right;\">\n",
       "      <th>binned_24hsbp6</th>\n",
       "      <th>below_130</th>\n",
       "      <th>130_or_above</th>\n",
       "      <th>Total</th>\n",
       "    </tr>\n",
       "    <tr>\n",
       "      <th>binned_ages</th>\n",
       "      <th></th>\n",
       "      <th></th>\n",
       "      <th></th>\n",
       "    </tr>\n",
       "  </thead>\n",
       "  <tbody>\n",
       "    <tr>\n",
       "      <th>below_60</th>\n",
       "      <td>17</td>\n",
       "      <td>15</td>\n",
       "      <td>32</td>\n",
       "    </tr>\n",
       "    <tr>\n",
       "      <th>60_or_above</th>\n",
       "      <td>17</td>\n",
       "      <td>16</td>\n",
       "      <td>33</td>\n",
       "    </tr>\n",
       "    <tr>\n",
       "      <th>Total</th>\n",
       "      <td>34</td>\n",
       "      <td>31</td>\n",
       "      <td>65</td>\n",
       "    </tr>\n",
       "  </tbody>\n",
       "</table>\n",
       "</div>"
      ],
      "text/plain": [
       "binned_24hsbp6  below_130  130_or_above  Total\n",
       "binned_ages                                   \n",
       "below_60               17            15     32\n",
       "60_or_above            17            16     33\n",
       "Total                  34            31     65"
      ]
     },
     "execution_count": 13,
     "metadata": {},
     "output_type": "execute_result"
    }
   ],
   "source": [
    "# Create a cross tabulation based on our binning to use in our hypothesis test\n",
    "observed_freq_by_age_with_totals = pd.crosstab(orig_df['binned_ages'], orig_df['binned_24hsbp6'], margins=True, margins_name='Total')\n",
    "observed_freq_by_age_with_totals"
   ]
  },
  {
   "cell_type": "markdown",
   "id": "martial-exposure",
   "metadata": {},
   "source": [
    "Calculate test statistic using statsmodels library based on the following formula:\n",
    "    \n",
    "$Z = \\frac{\\hat{p}_1 - \\hat{p}_2 - (p_1 - p_2)}{\\sqrt{\\frac{\\bar{p}(1-\\bar{p})}{n_1}+\\frac{\\bar{p}(1-\\bar{p})}{n_2}}}$\n",
    "\n",
    "where $\\bar{p} = \\frac{x_1 + x_2}{n_1 + n_2}$"
   ]
  },
  {
   "cell_type": "code",
   "execution_count": 14,
   "id": "closing-timer",
   "metadata": {},
   "outputs": [
    {
     "name": "stdout",
     "output_type": "stream",
     "text": [
      "Z test stat: -0.13\n",
      "P-value: 0.8966\n",
      "Test statistic in rejection region?: False\n"
     ]
    }
   ],
   "source": [
    "# Grab counts from our cross tab\n",
    "x_counts = observed_freq_by_age_with_totals.iloc[:, 1][0:2].values\n",
    "n_counts = observed_freq_by_age_with_totals.iloc[:, 2][0:2].values\n",
    "\n",
    "z_test_stat, p_val = proportions_ztest(x_counts, n_counts, value=0)\n",
    "\n",
    "true_or_false = abs(z_test_stat) >= abs(z_crit_left)\n",
    "\n",
    "print(F\"Z test stat: {z_test_stat:.2f}\")\n",
    "print(F\"P-value: {p_val:.4f}\")\n",
    "print(F\"Test statistic in rejection region?: {true_or_false}\")"
   ]
  },
  {
   "cell_type": "markdown",
   "id": "prime-sleep",
   "metadata": {},
   "source": [
    "#### *Step 4: Conclusion - Using statistical language*\n",
    "\n",
    "Fail to reject $H_0$ because the calculated test statistic is not in the rejection region.  We don't have statistically significant evidence that there is a difference in the proportion of high 24-hour SBP values (130+ mmHg) at 24 weeks between individuals less than 60 years and greater than or equal to 60 years, at $\\alpha=0.05$.\n",
    "\n",
    "#### Conclusion - Using plain English\n",
    "\n",
    "It appears that the proportion of those below age 60 with high systolic blood pressure is the same as it is for those age 60+.  This is interesting because the scholarly article says that 2/3 of those above age 60 have hypertension, yet in our sample we're only seeing roughly 1/2 having hypertension in each of the two age groups.\n",
    "\n",
    "Keep in mind that there are two types of hypertension, systolic hypertension and diastolic hypertension, and I would assume that 2/3 proportion stated in the scholarly article are for both types of hypertension combined, however it's unclear.  Given that this hypothesis test focused solely on systolic blood pressure, that could be part of the discrepancy.\n",
    "\n",
    "Furthermore, we're looking at results after 24 weeks of the acupuncture treatment, so while we might expect to see a higher proportion of those age 60+ with hypertension, perhaps the acupuncture treatments have been more effective on the older patients in this study."
   ]
  },
  {
   "cell_type": "markdown",
   "id": "medium-going",
   "metadata": {},
   "source": [
    "### Q1.b: Alternatively, we could use a Chi-Square ($\\chi^2$) test to test the same hypothesis as in Q1a., which is as follows:"
   ]
  },
  {
   "cell_type": "markdown",
   "id": "chronic-mattress",
   "metadata": {},
   "source": [
    "#### *Step 1: Hypotheses*\n",
    "<ins>In words</ins><br>\n",
    "$H_0:$ There is no difference in the proportion of high 24-hour SBP values (130+ mmHg) at 24 weeks between individuals less than 60 years and greater than or equal to 60 years.  <br>\n",
    "$H_a:$ There is a difference in the proportion of high 24-hour SBP values (130+ mmHg) at 24 weeks between individuals less 60 years than and greater than or equal to 60 years. <br>\n",
    "\n",
    "<ins>Using symbols</ins><br>\n",
    "$H_0: p_1 = p_2$ <br>\n",
    "$H_a: p_1 \\neq p_2$"
   ]
  },
  {
   "cell_type": "markdown",
   "id": "solar-chain",
   "metadata": {},
   "source": [
    "#### *Step 2: Critical value(s)*\n",
    "\n",
    "Reject the null hypothesis ($H_0$) if the calculated test statistic is greater than or equal to 3.841, based on a right-tailed test using the Chi-Square ($\\chi^2$) Distribution, using $\\alpha = 0.05$.\n",
    "\n",
    "e.g. $\\chi^2_{1-\\alpha/2, df} \\geq 3.841$\n",
    "\n",
    "where $df = (r - 1) * (c - 1)$"
   ]
  },
  {
   "cell_type": "code",
   "execution_count": 15,
   "id": "adjacent-formation",
   "metadata": {},
   "outputs": [
    {
     "name": "stdout",
     "output_type": "stream",
     "text": [
      "Chi-Square Critical Value: 3.841\n"
     ]
    }
   ],
   "source": [
    "# Because the cross tab contains a row and column for totals, we need to subtract one from each of the tables dimensions to get an accurate num_rows and num_cols\n",
    "num_rows = observed_freq_by_age_with_totals.shape[0] - 1\n",
    "num_cols = observed_freq_by_age_with_totals.shape[1] - 1\n",
    "\n",
    "alpha = 0.05\n",
    "df = (num_rows - 1) * (num_cols - 1)\n",
    "\n",
    "chi_square_crit = chi2.ppf(1 - alpha, df = df)\n",
    "\n",
    "print(F\"Chi-Square Critical Value: {chi_square_crit:.3f}\")"
   ]
  },
  {
   "cell_type": "markdown",
   "id": "grave-travel",
   "metadata": {},
   "source": [
    "#### *Step 3: Test Statistic*\n",
    "\n",
    "Calculate test statistic using statsmodels library based on the following formula:\n",
    "    \n",
    "$\\sum\\limits_{i=1}^k \\frac{(O_i - E_i)^2}{E_i}$\n",
    "\n",
    "where $k = 4 \\text{ based on a 2x2 table}$"
   ]
  },
  {
   "cell_type": "code",
   "execution_count": 16,
   "id": "egyptian-train",
   "metadata": {},
   "outputs": [
    {
     "name": "stdout",
     "output_type": "stream",
     "text": [
      "Chi-Square test stat: 0.017\n",
      "P-value: 0.8966\n",
      "Test statistic in rejection region?: False\n"
     ]
    }
   ],
   "source": [
    "chi_square_test_stat, p_val = proportions_chisquare(count = x_counts, nobs = n_counts)[0:2]\n",
    "\n",
    "true_or_false = chi_square_test_stat >= chi_square_crit\n",
    "\n",
    "print(F\"Chi-Square test stat: {chi_square_test_stat:.3f}\")\n",
    "print(F\"P-value: {p_val:.4f}\")\n",
    "print(F\"Test statistic in rejection region?: {true_or_false}\")"
   ]
  },
  {
   "cell_type": "markdown",
   "id": "moderate-screw",
   "metadata": {},
   "source": [
    "#### *Step 4: Conclusion - Same as in Q1.b, but using Chi-Square Distribution*\n",
    "\n",
    "Fail to reject $H_0$ because the calculated test statistic is not in the rejection region.  We don't have statistically significant evidence that there is a difference in the proportion of high 24-hour SBP values (130+ mmHg) at 24 weeks between individuals less than 60 years and greater than or equal to 60 years, at $\\alpha=0.05$."
   ]
  },
  {
   "cell_type": "markdown",
   "id": "institutional-stage",
   "metadata": {},
   "source": [
    "### Q1.c: Constructing a confidence interval for the true difference in proportions of high 24-hour SBP values (130+ mmHg) at 24 weeks between individuals less than 60 years and greater than or equal to 60 years.\n",
    "\n",
    "Calculate the confidence interval based off of the following formula:\n",
    "\n",
    "$(\\hat{p}_1 - \\hat{p}_2) \\pm z_{\\alpha/2}\\sqrt{\\frac{\\hat{p}_1*\\hat{q}_1}{n_1} + \\frac{\\hat{p}_2*\\hat{q}_2}{n_2}}$\n",
    "\n",
    "where $\\hat{q}_1 = 1 - \\hat{p}_1 \\text{ and } \\hat{q}_2 = 1 - \\hat{p}_2$"
   ]
  },
  {
   "cell_type": "code",
   "execution_count": 17,
   "id": "complicated-bennett",
   "metadata": {},
   "outputs": [
    {
     "name": "stdout",
     "output_type": "stream",
     "text": [
      "With 95% confidence, the true difference in proportions of high 24-hour SBP values (130+ mmHg) at 24 weeks between individuals less than 60 years and greater than or equal to 60 years is between -0.2589 and 0.7108\n"
     ]
    }
   ],
   "source": [
    "conf_level = 0.95\n",
    "alpha = 1 - conf_level\n",
    "\n",
    "phat1 = x_counts[0] / n_counts[0]\n",
    "phat2 = x_counts[1] / n_counts[1]\n",
    "qhat1 = 1 - phat1\n",
    "qhat2 = 1 - phat2\n",
    "\n",
    "z_crit = norm.ppf(1 - alpha / 2)\n",
    "std_error = np.sqrt((phat1*(qhat1)/n_counts[0]) + (phat2*(qhat2)/n_counts[1]))\n",
    "\n",
    "lower_bound = (phat1 - phat2) - z_crit * std_error\n",
    "upper_bound = (phat1 + phat2) - z_crit * std_error\n",
    "\n",
    "print(F\"With {conf_level*100:.0f}% confidence, the true difference in proportions of high 24-hour SBP values (130+ mmHg) at 24 weeks between individuals less than 60 years and greater than or equal to 60 years is between {lower_bound:.4f} and {upper_bound:.4f}\")"
   ]
  },
  {
   "cell_type": "markdown",
   "id": "talented-donna",
   "metadata": {},
   "source": [
    "#### Confidence interal interpretation in plain English:\n",
    "\n",
    "Because we only have sample data, sample size of 65, we are working with incomplete information and we can't make completely accurate predictions.  Nonetheless, we still want to try and predict the difference in proportions of those with high SBP among our two age groups, which is why we use an interval for our estimate, as opposed to a single value.  Our interval indicates that the difference in proportions should be somewhere between -0.2589 (-25.89%) and 0.7108 (71.08%), which is rather wide and perhaps not incredibly helpful.  Collecting more data, by repeating the experiment with a larger sample size, would be recommended before any actionable conclusions can be made. "
   ]
  },
  {
   "cell_type": "markdown",
   "id": "passive-cream",
   "metadata": {},
   "source": [
    "### Q2: Is there a significant difference in the proportion with high SBP across the four treatment groups?\n",
    "\n",
    "Because we're looking to determine if the proportions of all four groups are the same, we can perform a Chi-Square test for homogenity."
   ]
  },
  {
   "cell_type": "code",
   "execution_count": 18,
   "id": "empirical-function",
   "metadata": {},
   "outputs": [
    {
     "data": {
      "text/plain": [
       "array([4, 3, 2, 1])"
      ]
     },
     "execution_count": 18,
     "metadata": {},
     "output_type": "execute_result"
    }
   ],
   "source": [
    "orig_df['group'].unique()"
   ]
  },
  {
   "cell_type": "code",
   "execution_count": 19,
   "id": "distinct-impossible",
   "metadata": {},
   "outputs": [
    {
     "data": {
      "text/plain": [
       "4    30\n",
       "3    30\n",
       "2    30\n",
       "1    30\n",
       "Name: group, dtype: int64"
      ]
     },
     "execution_count": 19,
     "metadata": {},
     "output_type": "execute_result"
    }
   ],
   "source": [
    "orig_df['group'].value_counts()"
   ]
  },
  {
   "cell_type": "markdown",
   "id": "approved-indonesia",
   "metadata": {},
   "source": [
    "#### *Step 1: Hypotheses*\n",
    "\n",
    "$H_0:$ The proportion with high SBP (130+ mmHg) across all four treatment groups is the same\n",
    "\n",
    "$H_a:$ At least one of the groups has a proportion with high SBP (130+ mmHg) that is different than the other groups."
   ]
  },
  {
   "cell_type": "code",
   "execution_count": 20,
   "id": "binary-miniature",
   "metadata": {},
   "outputs": [
    {
     "data": {
      "text/html": [
       "<div>\n",
       "<style scoped>\n",
       "    .dataframe tbody tr th:only-of-type {\n",
       "        vertical-align: middle;\n",
       "    }\n",
       "\n",
       "    .dataframe tbody tr th {\n",
       "        vertical-align: top;\n",
       "    }\n",
       "\n",
       "    .dataframe thead th {\n",
       "        text-align: right;\n",
       "    }\n",
       "</style>\n",
       "<table border=\"1\" class=\"dataframe\">\n",
       "  <thead>\n",
       "    <tr style=\"text-align: right;\">\n",
       "      <th>binned_24hsbp6</th>\n",
       "      <th>below_130</th>\n",
       "      <th>130_or_above</th>\n",
       "    </tr>\n",
       "    <tr>\n",
       "      <th>group</th>\n",
       "      <th></th>\n",
       "      <th></th>\n",
       "    </tr>\n",
       "  </thead>\n",
       "  <tbody>\n",
       "    <tr>\n",
       "      <th>1</th>\n",
       "      <td>9</td>\n",
       "      <td>4</td>\n",
       "    </tr>\n",
       "    <tr>\n",
       "      <th>2</th>\n",
       "      <td>11</td>\n",
       "      <td>5</td>\n",
       "    </tr>\n",
       "    <tr>\n",
       "      <th>3</th>\n",
       "      <td>9</td>\n",
       "      <td>7</td>\n",
       "    </tr>\n",
       "    <tr>\n",
       "      <th>4</th>\n",
       "      <td>5</td>\n",
       "      <td>15</td>\n",
       "    </tr>\n",
       "  </tbody>\n",
       "</table>\n",
       "</div>"
      ],
      "text/plain": [
       "binned_24hsbp6  below_130  130_or_above\n",
       "group                                  \n",
       "1                       9             4\n",
       "2                      11             5\n",
       "3                       9             7\n",
       "4                       5            15"
      ]
     },
     "execution_count": 20,
     "metadata": {},
     "output_type": "execute_result"
    }
   ],
   "source": [
    "# Create cross tab of our observed frequencies\n",
    "observed_freq_by_group = pd.crosstab(orig_df['group'], orig_df['binned_24hsbp6'])\n",
    "observed_freq_by_group"
   ]
  },
  {
   "cell_type": "markdown",
   "id": "embedded-exhibit",
   "metadata": {},
   "source": [
    "#### *Step 2: Critical value(s)*\n",
    "\n",
    "Reject the null hypothesis ($H_0$) if the calculated test statistic is greater than or equal to 7.815, based on a right tailed test using the Chi-Square ($\\chi^2$) Distribution with $\\alpha = 0.05$\n",
    "\n",
    "$\\chi^2_{\\alpha, df} \\geq 7.815$\n",
    "\n",
    "where $df = (r - 1) * (c - 1)$"
   ]
  },
  {
   "cell_type": "code",
   "execution_count": 21,
   "id": "higher-rapid",
   "metadata": {},
   "outputs": [
    {
     "name": "stdout",
     "output_type": "stream",
     "text": [
      "Chi-Square Critical Value: 7.815\n"
     ]
    }
   ],
   "source": [
    "num_rows = observed_freq_by_group.shape[0]\n",
    "num_cols = observed_freq_by_group.shape[1]\n",
    "\n",
    "alpha = 0.05\n",
    "df = (num_rows - 1) * (num_cols - 1)\n",
    "\n",
    "chi_square_crit = chi2.ppf(1-alpha, df = df)\n",
    "print(F\"Chi-Square Critical Value: {chi_square_crit:.3f}\")"
   ]
  },
  {
   "cell_type": "code",
   "execution_count": 22,
   "id": "robust-classic",
   "metadata": {},
   "outputs": [
    {
     "data": {
      "text/html": [
       "<div>\n",
       "<style scoped>\n",
       "    .dataframe tbody tr th:only-of-type {\n",
       "        vertical-align: middle;\n",
       "    }\n",
       "\n",
       "    .dataframe tbody tr th {\n",
       "        vertical-align: top;\n",
       "    }\n",
       "\n",
       "    .dataframe thead tr th {\n",
       "        text-align: left;\n",
       "    }\n",
       "</style>\n",
       "<table border=\"1\" class=\"dataframe\">\n",
       "  <thead>\n",
       "    <tr>\n",
       "      <th></th>\n",
       "      <th>below_130</th>\n",
       "      <th>130_or_above</th>\n",
       "    </tr>\n",
       "  </thead>\n",
       "  <tbody>\n",
       "    <tr>\n",
       "      <th>1</th>\n",
       "      <td>6.800000</td>\n",
       "      <td>6.200000</td>\n",
       "    </tr>\n",
       "    <tr>\n",
       "      <th>2</th>\n",
       "      <td>8.369231</td>\n",
       "      <td>7.630769</td>\n",
       "    </tr>\n",
       "    <tr>\n",
       "      <th>3</th>\n",
       "      <td>8.369231</td>\n",
       "      <td>7.630769</td>\n",
       "    </tr>\n",
       "    <tr>\n",
       "      <th>4</th>\n",
       "      <td>10.461538</td>\n",
       "      <td>9.538462</td>\n",
       "    </tr>\n",
       "  </tbody>\n",
       "</table>\n",
       "</div>"
      ],
      "text/plain": [
       "   below_130 130_or_above\n",
       "1   6.800000     6.200000\n",
       "2   8.369231     7.630769\n",
       "3   8.369231     7.630769\n",
       "4  10.461538     9.538462"
      ]
     },
     "execution_count": 22,
     "metadata": {},
     "output_type": "execute_result"
    }
   ],
   "source": [
    "# Use statsmodels to compute the test stat, p-value, and expected frequencies\n",
    "results = st.chi2_contingency(observed_freq_by_group)\n",
    "expected_freq_by_group = pd.DataFrame(st.chi2_contingency(observed_freq_by_group)[3], index = [1, 2, 3, 4], columns = [n24hsbp6_labels])\n",
    "expected_freq_by_group"
   ]
  },
  {
   "cell_type": "markdown",
   "id": "advanced-edwards",
   "metadata": {},
   "source": [
    "#### *Step 3: Test Statistic*\n",
    "\n",
    "Calculate test statistic using statsmodels library based on the following formula:\n",
    "    \n",
    "$\\sum\\limits_{i=1}^k \\frac{(O_i - E_i)^2}{E_i}$\n",
    "\n",
    "where $k = 8 \\text{ based on a 4x2 table}$"
   ]
  },
  {
   "cell_type": "code",
   "execution_count": 23,
   "id": "quick-twenty",
   "metadata": {},
   "outputs": [
    {
     "name": "stdout",
     "output_type": "stream",
     "text": [
      "Chi-Square test stat: 9.304\n",
      "P-value: 0.0255\n",
      "Test statistic in rejection region?: True\n"
     ]
    }
   ],
   "source": [
    "chi_square_test_stat, p_val = results[0:2]\n",
    "true_or_false = chi_square_test_stat >= chi_square_crit\n",
    "\n",
    "print(F'Chi-Square test stat: {chi_square_test_stat:.3f}')\n",
    "print(F'P-value: {p_val:.4f}')\n",
    "print(F'Test statistic in rejection region?: {true_or_false}')"
   ]
  },
  {
   "cell_type": "markdown",
   "id": "chemical-landscape",
   "metadata": {},
   "source": [
    "#### *Step 4: Conclusion - Using statistical language*\n",
    "\n",
    "Reject $H_0$ because the calculated test statistic is in the rejection region.  We have statistically significant evidence that at least one of the treatment groups has a different proportion of high SBP (130+ mmHg) at 24 weeks, at $\\alpha=0.05$.\n",
    "\n",
    "#### Conclusion - Using plain English\n",
    "\n",
    "At least one of the four treatment groups has a higher proportion of subjects with high SBP as compared to the rest.  This could indicate that the treatment applied to those groups was ineffective at treating systolic hypertension.  More investigation would need to be performed to determine which treatment(s) were ineffective."
   ]
  },
  {
   "cell_type": "markdown",
   "id": "disciplinary-costume",
   "metadata": {},
   "source": [
    "### Q3: Linear regression model using age (yrs) as the independent variable (X) and 24-hour diastolic blood pressure (DBP mmHg) at 24-weeks of treatment as the dependent variable (Y)"
   ]
  },
  {
   "cell_type": "markdown",
   "id": "regular-mathematics",
   "metadata": {},
   "source": [
    "### Q3.a: Constructing the model"
   ]
  },
  {
   "cell_type": "code",
   "execution_count": 24,
   "id": "powerful-reset",
   "metadata": {},
   "outputs": [
    {
     "name": "stdout",
     "output_type": "stream",
     "text": [
      "False    119\n",
      "True       1\n",
      "Name: age, dtype: int64\n",
      "\n",
      "False    65\n",
      "True     55\n",
      "Name: n24hdbp6, dtype: int64\n"
     ]
    }
   ],
   "source": [
    "age_and_24hdbp = orig_df.loc[:, ['age', 'n24hdbp6']]\n",
    "\n",
    "print(age_and_24hdbp['age'].isnull().value_counts())\n",
    "print()\n",
    "print(age_and_24hdbp['n24hdbp6'].isnull().value_counts())"
   ]
  },
  {
   "cell_type": "code",
   "execution_count": 25,
   "id": "early-beijing",
   "metadata": {},
   "outputs": [],
   "source": [
    "# Because there is one null value for age and 55 null values for n24hdbp6, we drop any rows containing null values, then perform the regression.\n",
    "\n",
    "non_null_age_and_24hdbp = age_and_24hdbp.loc[age_and_24hdbp.isnull().any(axis=1)==False]\n",
    "\n",
    "lm_dbp_age = ols(formula = 'n24hdbp6 ~ age', data=non_null_age_and_24hdbp).fit()\n",
    "\n",
    "intercept = lm_dbp_age.params[0]\n",
    "slope = lm_dbp_age.params[1]"
   ]
  },
  {
   "cell_type": "code",
   "execution_count": 26,
   "id": "falling-congo",
   "metadata": {},
   "outputs": [
    {
     "data": {
      "text/markdown": [
       "Linear Regression equation: $\\hat{y} = -0.407x + 106.243$"
      ],
      "text/plain": [
       "<IPython.core.display.Markdown object>"
      ]
     },
     "execution_count": 26,
     "metadata": {},
     "output_type": "execute_result"
    },
    {
     "data": {
      "image/png": "[encoded data removed]",
      "text/plain": [
       "<Figure size 432x288 with 1 Axes>"
      ]
     },
     "metadata": {
      "needs_background": "light"
     },
     "output_type": "display_data"
    }
   ],
   "source": [
    "# Graphing scatter plot to visualize data and see the fit of our regression equation\n",
    "x = (non_null_age_and_24hdbp['age'])\n",
    "\n",
    "plt.scatter(non_null_age_and_24hdbp['age'], non_null_age_and_24hdbp['n24hdbp6'])\n",
    "plt.title('Age and Diastolic Blood Pressure (DBP)')\n",
    "plt.xlabel('Age (yrs)')\n",
    "plt.ylabel('SBP (mmHg)')\n",
    "plt.plot(x, slope*x+intercept, color='r');\n",
    "plt.savefig(\"/users/rancher/Google Drive/Coding/website/github_pages/images/acupuncture_analysis/lin_reg_age_dbp.png\", bbox_inches=\"tight\")\n",
    "\n",
    "md('Linear Regression equation: $\\hat{y} = %.3fx + %.3f$'%(slope, intercept))"
   ]
  },
  {
   "cell_type": "code",
   "execution_count": 27,
   "id": "extreme-ecology",
   "metadata": {},
   "outputs": [
    {
     "data": {
      "text/html": [
       "<table class=\"simpletable\">\n",
       "<caption>OLS Regression Results</caption>\n",
       "<tr>\n",
       "  <th>Dep. Variable:</th>        <td>n24hdbp6</td>     <th>  R-squared:         </th> <td>   0.146</td>\n",
       "</tr>\n",
       "<tr>\n",
       "  <th>Model:</th>                   <td>OLS</td>       <th>  Adj. R-squared:    </th> <td>   0.132</td>\n",
       "</tr>\n",
       "<tr>\n",
       "  <th>Method:</th>             <td>Least Squares</td>  <th>  F-statistic:       </th> <td>   10.73</td>\n",
       "</tr>\n",
       "<tr>\n",
       "  <th>Date:</th>             <td>Sun, 24 Jul 2022</td> <th>  Prob (F-statistic):</th>  <td>0.00171</td>\n",
       "</tr>\n",
       "<tr>\n",
       "  <th>Time:</th>                 <td>17:14:20</td>     <th>  Log-Likelihood:    </th> <td> -229.29</td>\n",
       "</tr>\n",
       "<tr>\n",
       "  <th>No. Observations:</th>      <td>    65</td>      <th>  AIC:               </th> <td>   462.6</td>\n",
       "</tr>\n",
       "<tr>\n",
       "  <th>Df Residuals:</th>          <td>    63</td>      <th>  BIC:               </th> <td>   466.9</td>\n",
       "</tr>\n",
       "<tr>\n",
       "  <th>Df Model:</th>              <td>     1</td>      <th>                     </th>     <td> </td>   \n",
       "</tr>\n",
       "<tr>\n",
       "  <th>Covariance Type:</th>      <td>nonrobust</td>    <th>                     </th>     <td> </td>   \n",
       "</tr>\n",
       "</table>\n",
       "<table class=\"simpletable\">\n",
       "<tr>\n",
       "      <td></td>         <th>coef</th>     <th>std err</th>      <th>t</th>      <th>P>|t|</th>  <th>[0.0125</th>   <th>0.9875]</th> \n",
       "</tr>\n",
       "<tr>\n",
       "  <th>Intercept</th> <td>  106.2433</td> <td>    7.356</td> <td>   14.444</td> <td> 0.000</td> <td>   89.353</td> <td>  123.133</td>\n",
       "</tr>\n",
       "<tr>\n",
       "  <th>age</th>       <td>   -0.4067</td> <td>    0.124</td> <td>   -3.276</td> <td> 0.002</td> <td>   -0.692</td> <td>   -0.122</td>\n",
       "</tr>\n",
       "</table>\n",
       "<table class=\"simpletable\">\n",
       "<tr>\n",
       "  <th>Omnibus:</th>       <td> 1.688</td> <th>  Durbin-Watson:     </th> <td>   2.117</td>\n",
       "</tr>\n",
       "<tr>\n",
       "  <th>Prob(Omnibus):</th> <td> 0.430</td> <th>  Jarque-Bera (JB):  </th> <td>   1.251</td>\n",
       "</tr>\n",
       "<tr>\n",
       "  <th>Skew:</th>          <td> 0.085</td> <th>  Prob(JB):          </th> <td>   0.535</td>\n",
       "</tr>\n",
       "<tr>\n",
       "  <th>Kurtosis:</th>      <td> 2.342</td> <th>  Cond. No.          </th> <td>    420.</td>\n",
       "</tr>\n",
       "</table><br/><br/>Notes:<br/>[1] Standard Errors assume that the covariance matrix of the errors is correctly specified."
      ],
      "text/plain": [
       "<class 'statsmodels.iolib.summary.Summary'>\n",
       "\"\"\"\n",
       "                            OLS Regression Results                            \n",
       "==============================================================================\n",
       "Dep. Variable:               n24hdbp6   R-squared:                       0.146\n",
       "Model:                            OLS   Adj. R-squared:                  0.132\n",
       "Method:                 Least Squares   F-statistic:                     10.73\n",
       "Date:                Sun, 24 Jul 2022   Prob (F-statistic):            0.00171\n",
       "Time:                        17:14:20   Log-Likelihood:                -229.29\n",
       "No. Observations:                  65   AIC:                             462.6\n",
       "Df Residuals:                      63   BIC:                             466.9\n",
       "Df Model:                           1                                         \n",
       "Covariance Type:            nonrobust                                         \n",
       "==============================================================================\n",
       "                 coef    std err          t      P>|t|     [0.0125     0.9875]\n",
       "------------------------------------------------------------------------------\n",
       "Intercept    106.2433      7.356     14.444      0.000      89.353     123.133\n",
       "age           -0.4067      0.124     -3.276      0.002      -0.692      -0.122\n",
       "==============================================================================\n",
       "Omnibus:                        1.688   Durbin-Watson:                   2.117\n",
       "Prob(Omnibus):                  0.430   Jarque-Bera (JB):                1.251\n",
       "Skew:                           0.085   Prob(JB):                        0.535\n",
       "Kurtosis:                       2.342   Cond. No.                         420.\n",
       "==============================================================================\n",
       "\n",
       "Notes:\n",
       "[1] Standard Errors assume that the covariance matrix of the errors is correctly specified.\n",
       "\"\"\""
      ]
     },
     "execution_count": 27,
     "metadata": {},
     "output_type": "execute_result"
    }
   ],
   "source": [
    "alpha = 0.025\n",
    "lm_dbp_age.summary(alpha=alpha)"
   ]
  },
  {
   "cell_type": "markdown",
   "id": "early-federal",
   "metadata": {},
   "source": [
    "### Q3.b: Checking for significance in the slope of the linear model using ANOVA and the F-Distribution"
   ]
  },
  {
   "cell_type": "markdown",
   "id": "welcome-component",
   "metadata": {},
   "source": [
    "#### *Step 1: Hypotheses*\n",
    "\n",
    "<ins>In words</ins><br>\n",
    "$H_0:$ There is no linear relationship between age and 24hr DBP. <br>\n",
    "$H_a:$ There is a linear relationship between age and 24hr DBP.\n",
    "\n",
    "<ins>Using Symbols</ins><br>\n",
    "$H_0: \\beta_1 = 0$<br>\n",
    "$H_a: \\beta_1 \\neq 0$"
   ]
  },
  {
   "cell_type": "markdown",
   "id": "least-relations",
   "metadata": {},
   "source": [
    "#### *Step 2: Critical value(s)*\n",
    "\n",
    "Reject the null hypothesis ($H_0$) if the calculated test statistic is greater than or equal to 5.27, based on a right tailed test using the F Distribution with $\\alpha = 0.025$\n",
    "\n",
    "$F_{1-\\alpha, \\text{df_num, df_denom}} \\geq 5.27$\n",
    "\n",
    "where $df_\\text{num} = 1 \\text{ and } df_\\text{denom} = n - 2$"
   ]
  },
  {
   "cell_type": "code",
   "execution_count": 28,
   "id": "honest-variety",
   "metadata": {},
   "outputs": [
    {
     "name": "stdout",
     "output_type": "stream",
     "text": [
      "F critical value: 5.27\n"
     ]
    }
   ],
   "source": [
    "alpha = 0.025\n",
    "df_num = 1\n",
    "df_denom = non_null_age_and_24hdbp.shape[0] - 2\n",
    "\n",
    "F_crit = f.ppf(1-alpha, df_num, df_denom)\n",
    "print(F\"F critical value: {F_crit:.2f}\")"
   ]
  },
  {
   "cell_type": "markdown",
   "id": "intimate-lying",
   "metadata": {},
   "source": [
    "#### *Step 3: Test Statistic*\n",
    "\n",
    "Calculate test statistic using statsmodels library based on the following formula:\n",
    "    \n",
    "$F = \\frac{\\text{MSR}}{\\text{MSE}}$\n",
    "\n",
    "where $\\text{MSR} = \\text{SSR} \\text{ and } \\text{MSE} = \\frac{\\text{SSE}}{n-2}$"
   ]
  },
  {
   "cell_type": "code",
   "execution_count": 29,
   "id": "moderate-money",
   "metadata": {},
   "outputs": [
    {
     "data": {
      "text/html": [
       "<div>\n",
       "<style scoped>\n",
       "    .dataframe tbody tr th:only-of-type {\n",
       "        vertical-align: middle;\n",
       "    }\n",
       "\n",
       "    .dataframe tbody tr th {\n",
       "        vertical-align: top;\n",
       "    }\n",
       "\n",
       "    .dataframe thead th {\n",
       "        text-align: right;\n",
       "    }\n",
       "</style>\n",
       "<table border=\"1\" class=\"dataframe\">\n",
       "  <thead>\n",
       "    <tr style=\"text-align: right;\">\n",
       "      <th></th>\n",
       "      <th>sum_sq</th>\n",
       "      <th>df</th>\n",
       "      <th>F</th>\n",
       "      <th>PR(&gt;F)</th>\n",
       "    </tr>\n",
       "  </thead>\n",
       "  <tbody>\n",
       "    <tr>\n",
       "      <th>age</th>\n",
       "      <td>751.427167</td>\n",
       "      <td>1.0</td>\n",
       "      <td>10.734777</td>\n",
       "      <td>0.001712</td>\n",
       "    </tr>\n",
       "    <tr>\n",
       "      <th>Residual</th>\n",
       "      <td>4409.957449</td>\n",
       "      <td>63.0</td>\n",
       "      <td>NaN</td>\n",
       "      <td>NaN</td>\n",
       "    </tr>\n",
       "  </tbody>\n",
       "</table>\n",
       "</div>"
      ],
      "text/plain": [
       "               sum_sq    df          F    PR(>F)\n",
       "age        751.427167   1.0  10.734777  0.001712\n",
       "Residual  4409.957449  63.0        NaN       NaN"
      ]
     },
     "execution_count": 29,
     "metadata": {},
     "output_type": "execute_result"
    }
   ],
   "source": [
    "results = sm.stats.anova_lm(lm_dbp_age, typ=2)\n",
    "results"
   ]
  },
  {
   "cell_type": "code",
   "execution_count": 30,
   "id": "crucial-reason",
   "metadata": {},
   "outputs": [
    {
     "name": "stdout",
     "output_type": "stream",
     "text": [
      "F test stat: 10.73\n",
      "P-value: 0.0017\n",
      "Test statistic in rejection region?: True\n"
     ]
    }
   ],
   "source": [
    "F_test_stat = results.loc['age', 'F']\n",
    "p_val = results.loc['age', 'PR(>F)']\n",
    "true_or_false = F_test_stat >= F_crit\n",
    "\n",
    "print(F'F test stat: {F_test_stat:.2f}')\n",
    "print(F'P-value: {p_val:.4f}')\n",
    "print(F'Test statistic in rejection region?: {true_or_false}')"
   ]
  },
  {
   "cell_type": "markdown",
   "id": "separated-shoot",
   "metadata": {},
   "source": [
    "#### *Step 4: Conclusion - Using statistical language*\n",
    "\n",
    "Reject $H_0$ because the calculated test statistic is in the rejection region.  We have statistically significant evidence that there is a linear relationship between age (yrs) and 24-hour diastolic blood pressure (mmHg) at 24-weeks of treatment, at $\\alpha=0.05$.\n",
    "\n",
    "#### Conclusion - Using plain English:\n",
    "\n",
    "It would appear that age (yrs) can be a useful way to predict a patient's diastolic blood pressure (DBP in mmHg).  There may be better ways to predict a patients DBP than using age and our predictions might be improved if we included other types of information as well, such as gender, race, etc."
   ]
  },
  {
   "cell_type": "markdown",
   "id": "dominican-yesterday",
   "metadata": {},
   "source": [
    "### Q3.c: Confidence interval for the slope\n",
    "\n",
    "Calculate the confidence interval using the statsmodels library."
   ]
  },
  {
   "cell_type": "code",
   "execution_count": 31,
   "id": "lonely-capitol",
   "metadata": {},
   "outputs": [
    {
     "name": "stdout",
     "output_type": "stream",
     "text": [
      "We are 90% confident that the true population slope is between -0.6140 and -0.1995 mmHg/year\n"
     ]
    }
   ],
   "source": [
    "conf_level = 0.90\n",
    "alpha = 1 - conf_level\n",
    "\n",
    "lower_bound, upper_bound = lm_dbp_age.conf_int(alpha=alpha).loc['age', [0,1]]\n",
    "\n",
    "print(F\"We are {conf_level*100:.0f}% confident that the true population slope is between {lower_bound:.4f} and {upper_bound:.4f} mmHg/year\")"
   ]
  },
  {
   "cell_type": "markdown",
   "id": "editorial-synthesis",
   "metadata": {},
   "source": [
    "#### Confidence interal interpretation in plain English:\n",
    "\n",
    "Because we only have sample data, sample size of 65, we are working with incomplete information and we can't make completely accurate predictions.  Nonetheless, we still want to try and predict how an increase in one's age will affect one's diastolic blood pressure (DBP in mmHg).  To do so, we use an interval estimate, as opposed to a single value estimate, in order to be more confident that our estimate will be correct.  \n",
    "\n",
    "This confidence interval estimates that for each additional year older a patient gets, their DBP will change by anywhere between -0.6140 and -0.1995 mmHg.  Because our interval contains only negative values, it implies that one's DBP has a tendency to decrease with age. "
   ]
  },
  {
   "cell_type": "markdown",
   "id": "stopped-cooperative",
   "metadata": {},
   "source": [
    "### Q3.d: Confidence interval for the intercept\n",
    "\n",
    "Calculate the confidence interval using the statsmodels library."
   ]
  },
  {
   "cell_type": "code",
   "execution_count": 32,
   "id": "hybrid-penetration",
   "metadata": {},
   "outputs": [
    {
     "name": "stdout",
     "output_type": "stream",
     "text": [
      "We are 90% confident that the true population intercept is between 93.9639 and 118.5227 mmHg\n"
     ]
    }
   ],
   "source": [
    "lower_bound, upper_bound = lm_dbp_age.conf_int(alpha=alpha).loc['Intercept', [0,1]]\n",
    "\n",
    "print(F\"We are {conf_level*100:.0f}% confident that the true population intercept is between {lower_bound:.4f} and {upper_bound:.4f} mmHg\")"
   ]
  },
  {
   "cell_type": "markdown",
   "id": "valued-paint",
   "metadata": {},
   "source": [
    "#### Confidence interal interpretation in plain English:\n",
    "\n",
    "Given that our linear regression equation is as follows: $\\hat{y}=-0.407x + 106.243$, where x is a patient's age in years and $\\hat{y}$ is the patient's predicted diastolic blood pressure (DBP) in mmHg, the y-intercept of 106.243 would indicate a patient's predicted DBP for an age of 0 years (x=0).  With this in mind, the intercept doesn't really make sense, and interpreting the confidence interval isn't super useful."
   ]
  },
  {
   "cell_type": "markdown",
   "id": "historical-taylor",
   "metadata": {},
   "source": [
    "### Q4: Linear regression model using age (yrs) as the independent variable (X) and 24-hour *Systolic* blood pressure (SBP mmHg) at 24-weeks of treatment as the dependent variable (Y)"
   ]
  },
  {
   "cell_type": "markdown",
   "id": "compatible-positive",
   "metadata": {},
   "source": [
    "### Q4.a: Constructing the model"
   ]
  },
  {
   "cell_type": "code",
   "execution_count": 33,
   "id": "strategic-afghanistan",
   "metadata": {},
   "outputs": [
    {
     "name": "stdout",
     "output_type": "stream",
     "text": [
      "False    119\n",
      "True       1\n",
      "Name: age, dtype: int64\n",
      "\n",
      "False    65\n",
      "True     55\n",
      "Name: n24hsbp6, dtype: int64\n"
     ]
    }
   ],
   "source": [
    "age_and_24hsbp = orig_df.loc[:, ['age', 'n24hsbp6']]\n",
    "\n",
    "print(age_and_24hsbp['age'].isnull().value_counts())\n",
    "print()\n",
    "print(age_and_24hsbp['n24hsbp6'].isnull().value_counts())"
   ]
  },
  {
   "cell_type": "code",
   "execution_count": 34,
   "id": "explicit-toolbox",
   "metadata": {},
   "outputs": [],
   "source": [
    "# Because there is one null value for age and 55 null values for n24hsbp6, we drop any rows containing null values, then perform the regression.\n",
    "\n",
    "non_null_age_and_24hsbp = age_and_24hsbp.loc[age_and_24hsbp.isnull().any(axis=1)==False]\n",
    "\n",
    "lm_sbp_age = ols(formula = 'n24hsbp6 ~ age', data=non_null_age_and_24hsbp).fit()\n",
    "\n",
    "intercept = lm_sbp_age.params[0]\n",
    "slope = lm_sbp_age.params[1]"
   ]
  },
  {
   "cell_type": "code",
   "execution_count": 35,
   "id": "greater-department",
   "metadata": {},
   "outputs": [
    {
     "data": {
      "text/markdown": [
       "Linear Regression equation: $\\hat{y} = -0.162x + 138.582$"
      ],
      "text/plain": [
       "<IPython.core.display.Markdown object>"
      ]
     },
     "execution_count": 35,
     "metadata": {},
     "output_type": "execute_result"
    },
    {
     "data": {
      "image/png": "[encoded data removed]",
      "text/plain": [
       "<Figure size 432x288 with 1 Axes>"
      ]
     },
     "metadata": {
      "needs_background": "light"
     },
     "output_type": "display_data"
    }
   ],
   "source": [
    "# Graphing scatter plot to visualize data and see the fit of our regression equation\n",
    "x = non_null_age_and_24hsbp['age']\n",
    "\n",
    "plt.scatter(non_null_age_and_24hsbp['age'], non_null_age_and_24hsbp['n24hsbp6'])\n",
    "plt.title('Age and Systolic Blood Pressure (SBP)')\n",
    "plt.xlabel('Age (yrs)')\n",
    "plt.ylabel('SBP (mmHg)')\n",
    "plt.plot(x, slope*x+intercept, color='r');\n",
    "\n",
    "md('Linear Regression equation: $\\hat{y} = %.3fx + %.3f$'%(slope, intercept))"
   ]
  },
  {
   "cell_type": "code",
   "execution_count": 36,
   "id": "advisory-fetish",
   "metadata": {},
   "outputs": [
    {
     "data": {
      "text/html": [
       "<table class=\"simpletable\">\n",
       "<caption>OLS Regression Results</caption>\n",
       "<tr>\n",
       "  <th>Dep. Variable:</th>        <td>n24hsbp6</td>     <th>  R-squared:         </th> <td>   0.018</td>\n",
       "</tr>\n",
       "<tr>\n",
       "  <th>Model:</th>                   <td>OLS</td>       <th>  Adj. R-squared:    </th> <td>   0.002</td>\n",
       "</tr>\n",
       "<tr>\n",
       "  <th>Method:</th>             <td>Least Squares</td>  <th>  F-statistic:       </th> <td>   1.139</td>\n",
       "</tr>\n",
       "<tr>\n",
       "  <th>Date:</th>             <td>Sun, 24 Jul 2022</td> <th>  Prob (F-statistic):</th>  <td> 0.290</td> \n",
       "</tr>\n",
       "<tr>\n",
       "  <th>Time:</th>                 <td>17:14:25</td>     <th>  Log-Likelihood:    </th> <td> -242.17</td>\n",
       "</tr>\n",
       "<tr>\n",
       "  <th>No. Observations:</th>      <td>    65</td>      <th>  AIC:               </th> <td>   488.3</td>\n",
       "</tr>\n",
       "<tr>\n",
       "  <th>Df Residuals:</th>          <td>    63</td>      <th>  BIC:               </th> <td>   492.7</td>\n",
       "</tr>\n",
       "<tr>\n",
       "  <th>Df Model:</th>              <td>     1</td>      <th>                     </th>     <td> </td>   \n",
       "</tr>\n",
       "<tr>\n",
       "  <th>Covariance Type:</th>      <td>nonrobust</td>    <th>                     </th>     <td> </td>   \n",
       "</tr>\n",
       "</table>\n",
       "<table class=\"simpletable\">\n",
       "<tr>\n",
       "      <td></td>         <th>coef</th>     <th>std err</th>      <th>t</th>      <th>P>|t|</th>  <th>[0.025</th>    <th>0.975]</th>  \n",
       "</tr>\n",
       "<tr>\n",
       "  <th>Intercept</th> <td>  138.5816</td> <td>    8.967</td> <td>   15.455</td> <td> 0.000</td> <td>  120.663</td> <td>  156.501</td>\n",
       "</tr>\n",
       "<tr>\n",
       "  <th>age</th>       <td>   -0.1615</td> <td>    0.151</td> <td>   -1.067</td> <td> 0.290</td> <td>   -0.464</td> <td>    0.141</td>\n",
       "</tr>\n",
       "</table>\n",
       "<table class=\"simpletable\">\n",
       "<tr>\n",
       "  <th>Omnibus:</th>       <td> 1.869</td> <th>  Durbin-Watson:     </th> <td>   1.953</td>\n",
       "</tr>\n",
       "<tr>\n",
       "  <th>Prob(Omnibus):</th> <td> 0.393</td> <th>  Jarque-Bera (JB):  </th> <td>   1.289</td>\n",
       "</tr>\n",
       "<tr>\n",
       "  <th>Skew:</th>          <td> 0.332</td> <th>  Prob(JB):          </th> <td>   0.525</td>\n",
       "</tr>\n",
       "<tr>\n",
       "  <th>Kurtosis:</th>      <td> 3.191</td> <th>  Cond. No.          </th> <td>    420.</td>\n",
       "</tr>\n",
       "</table><br/><br/>Notes:<br/>[1] Standard Errors assume that the covariance matrix of the errors is correctly specified."
      ],
      "text/plain": [
       "<class 'statsmodels.iolib.summary.Summary'>\n",
       "\"\"\"\n",
       "                            OLS Regression Results                            \n",
       "==============================================================================\n",
       "Dep. Variable:               n24hsbp6   R-squared:                       0.018\n",
       "Model:                            OLS   Adj. R-squared:                  0.002\n",
       "Method:                 Least Squares   F-statistic:                     1.139\n",
       "Date:                Sun, 24 Jul 2022   Prob (F-statistic):              0.290\n",
       "Time:                        17:14:25   Log-Likelihood:                -242.17\n",
       "No. Observations:                  65   AIC:                             488.3\n",
       "Df Residuals:                      63   BIC:                             492.7\n",
       "Df Model:                           1                                         \n",
       "Covariance Type:            nonrobust                                         \n",
       "==============================================================================\n",
       "                 coef    std err          t      P>|t|      [0.025      0.975]\n",
       "------------------------------------------------------------------------------\n",
       "Intercept    138.5816      8.967     15.455      0.000     120.663     156.501\n",
       "age           -0.1615      0.151     -1.067      0.290      -0.464       0.141\n",
       "==============================================================================\n",
       "Omnibus:                        1.869   Durbin-Watson:                   1.953\n",
       "Prob(Omnibus):                  0.393   Jarque-Bera (JB):                1.289\n",
       "Skew:                           0.332   Prob(JB):                        0.525\n",
       "Kurtosis:                       3.191   Cond. No.                         420.\n",
       "==============================================================================\n",
       "\n",
       "Notes:\n",
       "[1] Standard Errors assume that the covariance matrix of the errors is correctly specified.\n",
       "\"\"\""
      ]
     },
     "execution_count": 36,
     "metadata": {},
     "output_type": "execute_result"
    }
   ],
   "source": [
    "alpha = 0.05\n",
    "lm_sbp_age.summary(alpha=alpha)"
   ]
  },
  {
   "cell_type": "markdown",
   "id": "charged-given",
   "metadata": {},
   "source": [
    "### Q4.b: Checking for significance in the slope of the linear model using ANOVA and the F-Distribution"
   ]
  },
  {
   "cell_type": "markdown",
   "id": "alleged-galaxy",
   "metadata": {},
   "source": [
    "#### *Step 1: Hypotheses*\n",
    "\n",
    "<ins>In words</ins><br>\n",
    "$H_0:$ There is no linear relationship between age and 24hr SBP. <br>\n",
    "$H_a:$ There is a linear relationship between age and 24hr SBP.\n",
    "\n",
    "<ins>Using Symbols</ins><br>\n",
    "$H_0: \\beta_1 = 0$<br>\n",
    "$H_a: \\beta_1 \\neq 0$"
   ]
  },
  {
   "cell_type": "markdown",
   "id": "deluxe-alcohol",
   "metadata": {},
   "source": [
    "#### *Step 2: Critical value(s)*\n",
    "\n",
    "Reject the null hypothesis ($H_0$) if the calculated test statistic is greater than or equal to 3.99, based on a right tailed test using the F Distribution with $\\alpha = 0.05$\n",
    "\n",
    "$F_{1-\\alpha, \\text{df_num, df_denom}} \\geq 3.99$\n",
    "\n",
    "where $df_\\text{num} = 1 \\text{ and } df_\\text{denom} = n - 2$"
   ]
  },
  {
   "cell_type": "code",
   "execution_count": 37,
   "id": "median-diameter",
   "metadata": {},
   "outputs": [
    {
     "name": "stdout",
     "output_type": "stream",
     "text": [
      "F critical value: 3.99\n"
     ]
    }
   ],
   "source": [
    "alpha = 0.05\n",
    "df_num = 1\n",
    "df_denom = non_null_age_and_24hsbp.shape[0] - 2\n",
    "\n",
    "F_crit = f.ppf(1-alpha, df_num, df_denom)\n",
    "print(F\"F critical value: {F_crit:.2f}\")"
   ]
  },
  {
   "cell_type": "markdown",
   "id": "chief-pollution",
   "metadata": {},
   "source": [
    "#### *Step 3: Test Statistic*\n",
    "\n",
    "Calculate test statistic using statsmodels library based on the following formula:\n",
    "    \n",
    "$F = \\frac{\\text{MSR}}{\\text{MSE}}$\n",
    "\n",
    "where $\\text{MSR} = \\text{SSR} = \\sum\\limits_{i=i}^n(\\hat{y}_i-\\bar{y}_i)^2 \\text{ and } \\text{MSE} = \\frac{\\text{SSE}}{n-2}=\\frac{\\sum\\limits_{i=1}^n(y_i-\\hat{y}_i)^2}{n-2}$"
   ]
  },
  {
   "cell_type": "code",
   "execution_count": 38,
   "id": "fifteen-opinion",
   "metadata": {},
   "outputs": [
    {
     "data": {
      "text/html": [
       "<div>\n",
       "<style scoped>\n",
       "    .dataframe tbody tr th:only-of-type {\n",
       "        vertical-align: middle;\n",
       "    }\n",
       "\n",
       "    .dataframe tbody tr th {\n",
       "        vertical-align: top;\n",
       "    }\n",
       "\n",
       "    .dataframe thead th {\n",
       "        text-align: right;\n",
       "    }\n",
       "</style>\n",
       "<table border=\"1\" class=\"dataframe\">\n",
       "  <thead>\n",
       "    <tr style=\"text-align: right;\">\n",
       "      <th></th>\n",
       "      <th>sum_sq</th>\n",
       "      <th>df</th>\n",
       "      <th>F</th>\n",
       "      <th>PR(&gt;F)</th>\n",
       "    </tr>\n",
       "  </thead>\n",
       "  <tbody>\n",
       "    <tr>\n",
       "      <th>age</th>\n",
       "      <td>118.482713</td>\n",
       "      <td>1.0</td>\n",
       "      <td>1.13895</td>\n",
       "      <td>0.289947</td>\n",
       "    </tr>\n",
       "    <tr>\n",
       "      <th>Residual</th>\n",
       "      <td>6553.763440</td>\n",
       "      <td>63.0</td>\n",
       "      <td>NaN</td>\n",
       "      <td>NaN</td>\n",
       "    </tr>\n",
       "  </tbody>\n",
       "</table>\n",
       "</div>"
      ],
      "text/plain": [
       "               sum_sq    df        F    PR(>F)\n",
       "age        118.482713   1.0  1.13895  0.289947\n",
       "Residual  6553.763440  63.0      NaN       NaN"
      ]
     },
     "execution_count": 38,
     "metadata": {},
     "output_type": "execute_result"
    }
   ],
   "source": [
    "results = sm.stats.anova_lm(lm_sbp_age, typ=2)\n",
    "results"
   ]
  },
  {
   "cell_type": "code",
   "execution_count": 39,
   "id": "thorough-winter",
   "metadata": {},
   "outputs": [
    {
     "name": "stdout",
     "output_type": "stream",
     "text": [
      "F test stat: 1.14\n",
      "P-value: 0.2899\n",
      "Test statistic in rejection region?: False\n"
     ]
    }
   ],
   "source": [
    "F_test_stat = results.loc['age', 'F']\n",
    "p_val = results.loc['age', 'PR(>F)']\n",
    "true_or_false = F_test_stat >= F_crit\n",
    "\n",
    "print(F'F test stat: {F_test_stat:.2f}')\n",
    "print(F'P-value: {p_val:.4f}')\n",
    "print(F'Test statistic in rejection region?: {true_or_false}')"
   ]
  },
  {
   "cell_type": "markdown",
   "id": "skilled-caution",
   "metadata": {},
   "source": [
    "#### *Step 4: Conclusion - Using statistical language*\n",
    "\n",
    "Fail to reject $H_0$ because the calculated test statistic is not in the rejection region.  We do not have statistically significant evidence that there is a linear relationship between age (yrs) and 24-hour systolic blood pressure (mmHg) at 24-weeks of treatment, at $\\alpha=0.05$.\n",
    "\n",
    "#### Conclusion - Using plain English\n",
    "\n",
    "Essentially, we don't have enough information to conclude that a patient's age in years plays a contributing role in predicting the patient's systolic blood pressure (SBP) in mmHg.  We should either collect more data and run the hypothesis test again, or we should look to other types of information to make this kind of prediction."
   ]
  },
  {
   "cell_type": "markdown",
   "id": "lesbian-badge",
   "metadata": {},
   "source": [
    "### Q4.c: Alternatively, we could use the t-Distribution to test the same hypothesis as in Q4.b, which is as follows:"
   ]
  },
  {
   "cell_type": "markdown",
   "id": "strategic-allocation",
   "metadata": {},
   "source": [
    "#### *Step 1: Hypotheses*\n",
    "\n",
    "<ins>In words</ins><br>\n",
    "$H_0:$ There is no linear relationship between age and 24hr SBP. <br>\n",
    "$H_a:$ There is a linear relationship between age and 24hr SBP.\n",
    "\n",
    "<ins>Using Symbols</ins><br>\n",
    "$H_0: \\beta_1 = 0$<br>\n",
    "$H_a: \\beta_1 \\neq 0$"
   ]
  },
  {
   "cell_type": "markdown",
   "id": "legal-blogger",
   "metadata": {},
   "source": [
    "#### *Step 2: Critical value(s)*\n",
    "\n",
    "Reject the null hypothesis ($H_0$) if the calculated test statistic is less than or equal to -1.998, or greater than or equal to 1.998, based on a two-tailed test using the t-Distribution with $\\alpha = 0.05$\n",
    "\n",
    "$t_{\\alpha/2, \\text{df}} \\leq -1.998 \\text{ or } t_{1-\\alpha/2, \\text{df}} \\geq 1.998$\n",
    "\n",
    "where $df = n - 1$"
   ]
  },
  {
   "cell_type": "code",
   "execution_count": 40,
   "id": "legislative-lounge",
   "metadata": {},
   "outputs": [
    {
     "name": "stdout",
     "output_type": "stream",
     "text": [
      "t_crit_left: -1.998\n",
      "t_crit_right: 1.998\n"
     ]
    }
   ],
   "source": [
    "alpha = 0.05\n",
    "df = non_null_age_and_24hsbp.shape[0] - 1\n",
    "\n",
    "t_crit_left = t.ppf(alpha/2, df=df)\n",
    "t_crit_right = t.ppf(1-alpha/2, df=df)\n",
    "print(F\"t_crit_left: {t_crit_left:.3f}\")\n",
    "print(F\"t_crit_right: {t_crit_right:.3f}\")"
   ]
  },
  {
   "cell_type": "markdown",
   "id": "lyric-hollywood",
   "metadata": {},
   "source": [
    "#### *Step 3: Test Statistic*\n",
    "\n",
    "Calculate test statistic using statsmodels library based on the following formula:\n",
    "    \n",
    "$t = \\frac{\\hat{\\beta}_1}{\\sqrt{\\frac{\\text{MSE}}{SS_{xx}}}}$\n",
    "\n",
    "where $\\text{MSE} = \\frac{\\text{SSE}}{n-2} = \\frac{\\sum\\limits_{i=i}^n(y_i-\\hat{y}_i)^2}{n-2} \\text{ and } SS_{xx} = \\sum\\limits_{i=1}^n(x_i - \\bar{x})^2$"
   ]
  },
  {
   "cell_type": "code",
   "execution_count": 41,
   "id": "cordless-excuse",
   "metadata": {},
   "outputs": [
    {
     "name": "stdout",
     "output_type": "stream",
     "text": [
      "t_test_statistic: -1.067\n",
      "P-value: 0.2899\n",
      "Test statistic in rejection region?: False\n"
     ]
    }
   ],
   "source": [
    "df_residual = non_null_age_and_24hsbp.shape[0] - 2\n",
    "\n",
    "sse = results.loc['Residual', 'sum_sq']\n",
    "mse = sse/df_residual\n",
    "\n",
    "mean_age = non_null_age_and_24hsbp['age'].mean()\n",
    "ss_xx = sum((non_null_age_and_24hsbp['age'] - mean_age)**2)\n",
    "\n",
    "t_test_stat=slope/np.sqrt(mse/ss_xx)\n",
    "p_val = 2*(1-t.cdf(abs(t_test_stat), df=df_residual))\n",
    "true_or_false = abs(t_test_stat) >= t_crit_right\n",
    "\n",
    "print(F\"t_test_statistic: {t_test_stat:.3f}\")\n",
    "print(F\"P-value: {p_val:.4f}\")\n",
    "print(F\"Test statistic in rejection region?: {true_or_false}\")"
   ]
  },
  {
   "cell_type": "markdown",
   "id": "streaming-toilet",
   "metadata": {},
   "source": [
    "#### *Step 4: Conclusion - same as in Q4.b, but using the t-distribution*\n",
    "\n",
    "Fail to reject $H_0$ because the calculated test statistic is not in the rejection region.  We do not have statistically significant evidence that there is a linear relationship between age (yrs) and 24-hour systolic blood pressure (mmHg) at 24-weeks of treatment, at $\\alpha=0.05$."
   ]
  },
  {
   "cell_type": "markdown",
   "id": "thick-korean",
   "metadata": {},
   "source": [
    "# Q5: Can we make our linear model better at predicting systolic blood pressure by accounting for which treatment a subject in the study received based on their treatment group, while adjusting for other factors such as age and gender?  \n",
    "\n",
    "* Group 1: ST9-H group (120 twirls/minute at ST9 acupuncture site)\n",
    "* Group 2: ST9-L group (60 twirls/minute at ST9 acupuncture site)\n",
    "* Group 3: LR3-H group (120 twirls/minute at LR3 acupuncture site)\n",
    "* Group 4: LR3-L group (60 twirls/minute at LR3 acupuncture site)"
   ]
  },
  {
   "cell_type": "markdown",
   "id": "acute-variation",
   "metadata": {},
   "source": [
    "<img src=\"acupuncture_groups.png\">"
   ]
  },
  {
   "cell_type": "markdown",
   "id": "excessive-illness",
   "metadata": {},
   "source": [
    "### Q5.a: Constructing the model"
   ]
  },
  {
   "cell_type": "code",
   "execution_count": 70,
   "id": "defined-album",
   "metadata": {},
   "outputs": [],
   "source": [
    "group_age_gender_n24hsbp_df = orig_df.loc[:, ['group', 'age', 'gender', 'n24hsbp6']]\n",
    "\n",
    "# Drop null values\n",
    "non_null_group_age_gender_24hsbp = group_age_gender_n24hsbp_df.loc[group_age_gender_n24hsbp_df.isnull().any(axis=1)==False]"
   ]
  },
  {
   "cell_type": "code",
   "execution_count": 72,
   "id": "convenient-labor",
   "metadata": {},
   "outputs": [
    {
     "data": {
      "text/markdown": [
       "$x_1 =$ group_1 <br> $x_2 =$ group_2 <br> $x_3 =$ group_3 <br> $x_4 =$ age <br> $x_5 =$ gender <br> <br> Multiple Linear Regression equation: <br>  $\\hat{y} = -5.181x_1 + -8.143x_2 + -5.424x_3 + -0.040x_4 + 3.143x_5 + 130.324$"
      ],
      "text/plain": [
       "<IPython.core.display.Markdown object>"
      ]
     },
     "execution_count": 72,
     "metadata": {},
     "output_type": "execute_result"
    }
   ],
   "source": [
    "# Since group assignment is a qualitative categorical variable, we have to convert it to a quantitative variable in the form of dummy variables to be able to use in our regression model\n",
    "dummy_df = pd.get_dummies(non_null_group_age_gender_24hsbp, columns=['group'])\n",
    "\n",
    "# To avoid falling in the \"dummy variable trap,\" I drop the dummy variable for treatment group_4.  (https://www.algosome.com/articles/dummy-variable-trap-regression.html)\n",
    "dummy_df.drop(labels='group_4', axis=1, inplace=True)\n",
    "\n",
    "# Now create the multiple linear regression model and check it's performance\n",
    "mult_linear_model = ols('n24hsbp6 ~ group_1 + group_2 + group_3 + age + gender', data=dummy_df).fit()\n",
    "\n",
    "intercept = mult_linear_model.params[0]\n",
    "group_1_slope = mult_linear_model.params[1]\n",
    "group_2_slope = mult_linear_model.params[2]\n",
    "group_3_slope = mult_linear_model.params[3]\n",
    "age_slope = mult_linear_model.params[4]\n",
    "gender_slope = mult_linear_model.params[5]\n",
    "\n",
    "md('$x_1 =$ group_1 <br> $x_2 =$ group_2 <br> $x_3 =$ group_3 <br> $x_4 =$ age <br> $x_5 =$ gender <br> <br> Multiple Linear Regression equation: <br>  $\\hat{y} = %.3fx_1 + %.3fx_2 + %.3fx_3 + %.3fx_4 + %.3fx_5 + %.3f$'%(group_1_slope, group_2_slope, group_3_slope, age_slope, gender_slope, intercept))"
   ]
  },
  {
   "cell_type": "markdown",
   "id": "objective-crossing",
   "metadata": {},
   "source": [
    "### Q5.b: Checking for significance in the coefficients of our independent variables as a whole in our linear model using ANOVA and the F-Distribution (Omnibus test)"
   ]
  },
  {
   "cell_type": "markdown",
   "id": "logical-damage",
   "metadata": {},
   "source": [
    "#### *Step 1: Hypotheses*\n",
    "\n",
    "<ins>In words</ins><br>\n",
    "$H_0:$ None of our six independent variables explain the variation in 24hr SBP. <br>\n",
    "$H_a:$ At least one of our six independent variables explains the variation in 24hr SBP.\n",
    "\n",
    "<ins>Using Symbols</ins><br>\n",
    "$H_0: \\beta_1 = \\beta_2 = \\beta_3 = \\beta_4 = \\beta_5 = 0$<br>\n",
    "$H_a: \\text{not all } \\beta_i = 0$, where $k = 1, 2, 3, 4, \\text{or } 5$"
   ]
  },
  {
   "cell_type": "markdown",
   "id": "outer-retreat",
   "metadata": {},
   "source": [
    "#### *Step 2: Critical value(s)*\n",
    "\n",
    "Reject the null hypothesis ($H_0$) if the calculated test statistic is greater than or equal to 2.37, based on a right tailed test using the F Distribution with $\\alpha = 0.05$\n",
    "\n",
    "$F_{1-\\alpha, \\text{df_num, df_denom}} \\geq 2.37$\n",
    "\n",
    "where $df_\\text{num} = k \\text{ and } df_\\text{denom} = n - k - 1 \\text{, k = number of variables in model}$"
   ]
  },
  {
   "cell_type": "code",
   "execution_count": 44,
   "id": "internal-beaver",
   "metadata": {},
   "outputs": [
    {
     "name": "stdout",
     "output_type": "stream",
     "text": [
      "F critical value: 2.37\n"
     ]
    }
   ],
   "source": [
    "alpha = 0.05\n",
    "df_num = dummy_df.shape[1] - 1\n",
    "df_denom = dummy_df.shape[0] - df_num - 1\n",
    "\n",
    "F_crit = f.ppf(1-alpha, df_num, df_denom)\n",
    "print(F\"F critical value: {F_crit:.2f}\")"
   ]
  },
  {
   "cell_type": "markdown",
   "id": "cubic-poetry",
   "metadata": {},
   "source": [
    "#### *Step 3: Test Statistic*\n",
    "\n",
    "Calculate test statistic using the following formula:\n",
    "    \n",
    "$F = \\frac{\\text{MSR}}{\\text{MSE}}$\n",
    "\n",
    "where $\\text{MSR} = \\frac{\\text{SSR}}{k} = \\frac{\\sum\\limits_{i=i}^n(\\hat{y}_i-\\bar{y}_i)^2}{k} \\text{ and } \\text{MSE} = \\frac{\\text{SSE}}{n-k-1}=\\frac{\\sum\\limits_{i=1}^n(y_i-\\hat{y}_i)^2}{n-k-1}$\n",
    "\n",
    "and $df_{denom} = n - k - 1$"
   ]
  },
  {
   "cell_type": "code",
   "execution_count": 45,
   "id": "fantastic-headline",
   "metadata": {},
   "outputs": [
    {
     "name": "stdout",
     "output_type": "stream",
     "text": [
      "F test statistic: 1.62\n",
      "P-value: 0.1698\n",
      "Test statistic in rejection region?: False\n"
     ]
    }
   ],
   "source": [
    "x = dummy_df.loc[:, ['age', 'gender', 'group_1', 'group_2', 'group_3']]\n",
    "y = dummy_df.loc[:, 'n24hsbp6']\n",
    "y_bar = dummy_df.loc[:, 'n24hsbp6'].mean()\n",
    "k = df_num\n",
    "\n",
    "y_hat = mult_linear_model.predict(x)\n",
    "\n",
    "ssr = sum((y_hat - y_bar)**2)\n",
    "msr = ssr/k\n",
    "\n",
    "sse = sum((y - y_hat)**2)\n",
    "mse = sse/df_denom\n",
    "\n",
    "F_test_stat = msr/mse\n",
    "p_val = 1 - f.cdf(F_test_stat, df_num, df_denom)\n",
    "true_or_false = F_test_stat >= F_crit\n",
    "\n",
    "print(F\"F test statistic: {F_test_stat:.2f}\")\n",
    "print(F\"P-value: {p_val:.4f}\")\n",
    "print(F\"Test statistic in rejection region?: {true_or_false}\")"
   ]
  },
  {
   "cell_type": "markdown",
   "id": "billion-hawaii",
   "metadata": {},
   "source": [
    "#### *Step 4: Conclusion - Using statistical language*\n",
    "\n",
    "Fail to reject $H_0$ because the calculated test statistic is not in the rejection region.  We do not have statistically significant evidence that there is a linear relationship between treatment group and 24-hour systolic blood pressure (mmHg) at 24-weeks of treatment, while adjusting for age and gender, at $\\alpha=0.05$.  In other words, $\\beta_1 = \\beta_2 = \\beta_3 = \\beta_4 = \\beta_5 = \\beta_6 = 0$\n",
    "\n",
    "#### Conclusion - Using plain English\n",
    "\n",
    "Collectively, treatment group assignment, age, and gender, do not do a great job at predicting one's systolic blood pressure (SBP) in mmHg.  Perhaps a linear model is not appropriate and these variables would do a better job at predicting SBP in some other kind of model.  Alternatively, our model might make better predictions if we considered removing variables entirely, removing variables and replacing them with others, or adding additional variables to the model."
   ]
  },
  {
   "cell_type": "markdown",
   "id": "featured-addiction",
   "metadata": {},
   "source": [
    "#### Q5.c: Testing for a significant treatment group effect after accounting for age and gender."
   ]
  },
  {
   "cell_type": "markdown",
   "id": "religious-chocolate",
   "metadata": {},
   "source": [
    "#### *Step 1: Hypotheses*\n",
    "\n",
    "<ins>In words</ins><br>\n",
    "$H_0:$ Treatment group 2 is a significant treatment group in explaining the variation in 24hr SBP. <br>\n",
    "$H_a:$ Treatment group 2 is *NOT* a significant treatment group in explaining the variation in 24hr SBP.\n",
    "\n",
    "<ins>Using Symbols</ins><br>\n",
    "$H_0: \\beta_2 = 0 | (x_1, x_3, x_4, x_5)$<br>\n",
    "$H_a: \\beta_2 \\neq 0 | (x_1, x_3, x_4, x_5)$"
   ]
  },
  {
   "cell_type": "markdown",
   "id": "express-great",
   "metadata": {},
   "source": [
    "#### *Step 2: P value*\n",
    "\n",
    "Reject the null hypothesis ($H_0$) if the calculated P-value is less than or equal to 0.05, based on a two-tailed t test with $\\alpha = 0.05$\n",
    "\n",
    "$P \\leq \\alpha$\n",
    "\n",
    "where $df = n - k - 1 \\text{, k = number of variables in model}$"
   ]
  },
  {
   "cell_type": "code",
   "execution_count": 46,
   "id": "minute-voltage",
   "metadata": {},
   "outputs": [
    {
     "name": "stdout",
     "output_type": "stream",
     "text": [
      "P-value: 0.0200\n",
      "P-value <= alpha?: True\n"
     ]
    }
   ],
   "source": [
    "p_val = mult_linear_model.pvalues[2]\n",
    "true_or_false = p_val <= alpha\n",
    "\n",
    "print(F\"P-value: {p_val:.4f}\")\n",
    "print(F\"P-value <= alpha?: {true_or_false}\")"
   ]
  },
  {
   "cell_type": "code",
   "execution_count": 47,
   "id": "romantic-malta",
   "metadata": {},
   "outputs": [
    {
     "data": {
      "text/html": [
       "<table class=\"simpletable\">\n",
       "<caption>OLS Regression Results</caption>\n",
       "<tr>\n",
       "  <th>Dep. Variable:</th>        <td>n24hsbp6</td>     <th>  R-squared:         </th> <td>   0.120</td>\n",
       "</tr>\n",
       "<tr>\n",
       "  <th>Model:</th>                   <td>OLS</td>       <th>  Adj. R-squared:    </th> <td>   0.046</td>\n",
       "</tr>\n",
       "<tr>\n",
       "  <th>Method:</th>             <td>Least Squares</td>  <th>  F-statistic:       </th> <td>   1.616</td>\n",
       "</tr>\n",
       "<tr>\n",
       "  <th>Date:</th>             <td>Sun, 24 Jul 2022</td> <th>  Prob (F-statistic):</th>  <td> 0.170</td> \n",
       "</tr>\n",
       "<tr>\n",
       "  <th>Time:</th>                 <td>17:14:35</td>     <th>  Log-Likelihood:    </th> <td> -238.58</td>\n",
       "</tr>\n",
       "<tr>\n",
       "  <th>No. Observations:</th>      <td>    65</td>      <th>  AIC:               </th> <td>   489.2</td>\n",
       "</tr>\n",
       "<tr>\n",
       "  <th>Df Residuals:</th>          <td>    59</td>      <th>  BIC:               </th> <td>   502.2</td>\n",
       "</tr>\n",
       "<tr>\n",
       "  <th>Df Model:</th>              <td>     5</td>      <th>                     </th>     <td> </td>   \n",
       "</tr>\n",
       "<tr>\n",
       "  <th>Covariance Type:</th>      <td>nonrobust</td>    <th>                     </th>     <td> </td>   \n",
       "</tr>\n",
       "</table>\n",
       "<table class=\"simpletable\">\n",
       "<tr>\n",
       "      <td></td>         <th>coef</th>     <th>std err</th>      <th>t</th>      <th>P>|t|</th>  <th>[0.025</th>    <th>0.975]</th>  \n",
       "</tr>\n",
       "<tr>\n",
       "  <th>Intercept</th> <td>  130.3237</td> <td>   12.315</td> <td>   10.583</td> <td> 0.000</td> <td>  105.682</td> <td>  154.966</td>\n",
       "</tr>\n",
       "<tr>\n",
       "  <th>group_1</th>   <td>   -5.1811</td> <td>    3.577</td> <td>   -1.448</td> <td> 0.153</td> <td>  -12.339</td> <td>    1.977</td>\n",
       "</tr>\n",
       "<tr>\n",
       "  <th>group_2</th>   <td>   -8.1426</td> <td>    3.404</td> <td>   -2.392</td> <td> 0.020</td> <td>  -14.954</td> <td>   -1.331</td>\n",
       "</tr>\n",
       "<tr>\n",
       "  <th>group_3</th>   <td>   -5.4242</td> <td>    3.369</td> <td>   -1.610</td> <td> 0.113</td> <td>  -12.165</td> <td>    1.317</td>\n",
       "</tr>\n",
       "<tr>\n",
       "  <th>age</th>       <td>   -0.0401</td> <td>    0.161</td> <td>   -0.249</td> <td> 0.804</td> <td>   -0.362</td> <td>    0.281</td>\n",
       "</tr>\n",
       "<tr>\n",
       "  <th>gender</th>    <td>    3.1425</td> <td>    3.081</td> <td>    1.020</td> <td> 0.312</td> <td>   -3.023</td> <td>    9.308</td>\n",
       "</tr>\n",
       "</table>\n",
       "<table class=\"simpletable\">\n",
       "<tr>\n",
       "  <th>Omnibus:</th>       <td> 1.490</td> <th>  Durbin-Watson:     </th> <td>   2.158</td>\n",
       "</tr>\n",
       "<tr>\n",
       "  <th>Prob(Omnibus):</th> <td> 0.475</td> <th>  Jarque-Bera (JB):  </th> <td>   0.930</td>\n",
       "</tr>\n",
       "<tr>\n",
       "  <th>Skew:</th>          <td> 0.273</td> <th>  Prob(JB):          </th> <td>   0.628</td>\n",
       "</tr>\n",
       "<tr>\n",
       "  <th>Kurtosis:</th>      <td> 3.212</td> <th>  Cond. No.          </th> <td>    600.</td>\n",
       "</tr>\n",
       "</table><br/><br/>Notes:<br/>[1] Standard Errors assume that the covariance matrix of the errors is correctly specified."
      ],
      "text/plain": [
       "<class 'statsmodels.iolib.summary.Summary'>\n",
       "\"\"\"\n",
       "                            OLS Regression Results                            \n",
       "==============================================================================\n",
       "Dep. Variable:               n24hsbp6   R-squared:                       0.120\n",
       "Model:                            OLS   Adj. R-squared:                  0.046\n",
       "Method:                 Least Squares   F-statistic:                     1.616\n",
       "Date:                Sun, 24 Jul 2022   Prob (F-statistic):              0.170\n",
       "Time:                        17:14:35   Log-Likelihood:                -238.58\n",
       "No. Observations:                  65   AIC:                             489.2\n",
       "Df Residuals:                      59   BIC:                             502.2\n",
       "Df Model:                           5                                         \n",
       "Covariance Type:            nonrobust                                         \n",
       "==============================================================================\n",
       "                 coef    std err          t      P>|t|      [0.025      0.975]\n",
       "------------------------------------------------------------------------------\n",
       "Intercept    130.3237     12.315     10.583      0.000     105.682     154.966\n",
       "group_1       -5.1811      3.577     -1.448      0.153     -12.339       1.977\n",
       "group_2       -8.1426      3.404     -2.392      0.020     -14.954      -1.331\n",
       "group_3       -5.4242      3.369     -1.610      0.113     -12.165       1.317\n",
       "age           -0.0401      0.161     -0.249      0.804      -0.362       0.281\n",
       "gender         3.1425      3.081      1.020      0.312      -3.023       9.308\n",
       "==============================================================================\n",
       "Omnibus:                        1.490   Durbin-Watson:                   2.158\n",
       "Prob(Omnibus):                  0.475   Jarque-Bera (JB):                0.930\n",
       "Skew:                           0.273   Prob(JB):                        0.628\n",
       "Kurtosis:                       3.212   Cond. No.                         600.\n",
       "==============================================================================\n",
       "\n",
       "Notes:\n",
       "[1] Standard Errors assume that the covariance matrix of the errors is correctly specified.\n",
       "\"\"\""
      ]
     },
     "execution_count": 47,
     "metadata": {},
     "output_type": "execute_result"
    }
   ],
   "source": [
    "mult_linear_model.summary()"
   ]
  },
  {
   "cell_type": "code",
   "execution_count": 76,
   "id": "bc0a491c-0041-42b9-aaea-fba737e153fb",
   "metadata": {},
   "outputs": [
    {
     "data": {
      "image/png": "[encoded data removed]",
      "text/plain": [
       "<Figure size 864x504 with 1 Axes>"
      ]
     },
     "metadata": {
      "needs_background": "light"
     },
     "output_type": "display_data"
    }
   ],
   "source": [
    "plt.rc('figure', figsize=(12, 7))\n",
    "#plt.text(0.01, 0.05, str(model.summary()), {'fontsize': 12}) old approach\n",
    "plt.text(0.01, 0.05, str(mult_linear_model.summary()), {'fontsize': 10}, fontproperties = 'monospace') # approach improved by OP -> monospace!\n",
    "plt.axis('off')\n",
    "#plt.tight_layout()\n",
    "plt.savefig(\"/users/rancher/Google Drive/Coding/website/github_pages/images/acupuncture_analysis/mult_lin_reg_q5_summary.png\", bbox_inches=\"tight\")"
   ]
  },
  {
   "cell_type": "markdown",
   "id": "mighty-aerospace",
   "metadata": {},
   "source": [
    "#### *Step 4: Conclusion - Using statistical language*\n",
    "\n",
    "Reject $H_0$ because the calculated P-value is less than alpha (0.05).  We have statistically significant evidence that treatmenet group 2 explains variation in 24-hour systolic blood pressure (mmHg) at 24-weeks of treatment, while adjusting for age and gender, at $\\alpha=0.05$.  In other words, $\\beta_2|(x_1, x_3, x_4, x_5) \\neq 0$\n",
    "\n",
    "#### Conclusion - Using plain English\n",
    "\n",
    "While we mentioned previously that these variables didn't do a great job of predicting a patient's SBP, it appears that whether or not a patient was in treatment group 2 did have a significant impact on our predictions.  If we wish to try and construct other linear models, we should consider keeping this variable in."
   ]
  },
  {
   "cell_type": "code",
   "execution_count": null,
   "id": "potential-content",
   "metadata": {},
   "outputs": [],
   "source": []
  }
 ],
 "metadata": {
  "jupytext": {
   "formats": "ipynb,Rmd"
  },
  "kernelspec": {
   "display_name": "Python 3 (ipykernel)",
   "language": "python",
   "name": "python3"
  },
  "language_info": {
   "codemirror_mode": {
    "name": "ipython",
    "version": 3
   },
   "file_extension": ".py",
   "mimetype": "text/x-python",
   "name": "python",
   "nbconvert_exporter": "python",
   "pygments_lexer": "ipython3",
   "version": "3.9.12"
  }
 },
 "nbformat": 4,
 "nbformat_minor": 5
}
